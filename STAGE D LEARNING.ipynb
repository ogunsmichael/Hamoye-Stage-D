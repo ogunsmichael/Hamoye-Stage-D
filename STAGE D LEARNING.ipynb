{
 "cells": [
  {
   "cell_type": "markdown",
   "metadata": {},
   "source": [
    "#                     Introduction to Keras and Tensorflow with Python"
   ]
  },
  {
   "cell_type": "code",
   "execution_count": 54,
   "metadata": {},
   "outputs": [],
   "source": [
    "# Creating the work sapce and importing all neede libraries\n",
    "import numpy as np\n",
    "import matplotlib.pyplot as plt\n",
    "import tensorflow as tf\n",
    "from tensorflow import keras"
   ]
  },
  {
   "cell_type": "code",
   "execution_count": 55,
   "metadata": {},
   "outputs": [
    {
     "name": "stdout",
     "output_type": "stream",
     "text": [
      "Train data: (60000, 28, 28), (60000,)\n",
      "Test data: (10000, 28, 28), (10000,)\n"
     ]
    }
   ],
   "source": [
    "#Loading the Mnist Data\n",
    "mnist = keras.datasets.mnist\n",
    "(train_images, train_labels), (test_images, test_labels) = mnist.load_data()\n",
    "print(\"Train data: {}, {}\" .format(train_images.shape, train_labels.shape))\n",
    "print( \"Test data: {}, {}\" .format(test_images.shape, test_labels.shape))"
   ]
  },
  {
   "cell_type": "code",
   "execution_count": 56,
   "metadata": {},
   "outputs": [
    {
     "name": "stdout",
     "output_type": "stream",
     "text": [
      "There are 10 classes in the dataset. They are: [0 1 2 3 4 5 6 7 8 9]\n"
     ]
    }
   ],
   "source": [
    "class_labels = np.unique(train_labels)\n",
    "print( \"There are {} classes in the dataset. They are: {}\" .format(len(class_labels), class_labels))"
   ]
  },
  {
   "cell_type": "code",
   "execution_count": 57,
   "metadata": {},
   "outputs": [
    {
     "data": {
      "image/png": "[encoded data removed]",
      "text/plain": [
       "<Figure size 576x360 with 3 Axes>"
      ]
     },
     "metadata": {
      "needs_background": "light"
     },
     "output_type": "display_data"
    }
   ],
   "source": [
    "plt.figure(figsize=( 8 , 5 ))\n",
    "plt.subplot( 1 , 3 , 1 )\n",
    "plt.imshow(train_images[ 0 ])\n",
    "plt.title( \"Label: {}\" .format(train_labels[ 0 ]))\n",
    "plt.subplot( 1 , 3 , 2 )\n",
    "plt.imshow(train_images[ 2500 ])\n",
    "plt.title( \"Label: {}\" .format(train_labels[ 2500 ]))\n",
    "plt.subplot( 1 , 3 , 3 )\n",
    "plt.imshow(test_images[ 12 ])\n",
    "plt.show()"
   ]
  },
  {
   "cell_type": "code",
   "execution_count": 58,
   "metadata": {},
   "outputs": [],
   "source": [
    "# As usual, we scale our dataset to range between 0 and 1. In this dataset, the pixel valuesrange from 0 to 255.\n",
    "# Dividing the data by 255 scales to the required range\n",
    "train_images = train_images / 255.0\n",
    "test_images = test_images / 255.0"
   ]
  },
  {
   "cell_type": "code",
   "execution_count": 59,
   "metadata": {},
   "outputs": [
    {
     "name": "stdout",
     "output_type": "stream",
     "text": [
      "x_train: (50000, 28, 28)\n",
      "x_val: (10000, 28, 28)\n",
      "y_train: (50000,)\n",
      "y_val: (10000,)\n"
     ]
    }
   ],
   "source": [
    "# Split training data to training and validation sets.\n",
    "x_train = train_images[ 0 : 50000 ]\n",
    "x_val = train_images[ 50000 :]\n",
    "y_train = train_labels[ 0 : 50000 ]\n",
    "y_val = train_labels[ 50000 :]\n",
    "print( \"x_train: {}\" .format(x_train.shape)) # prints x_train: (50000, 28, 28)\n",
    "print( \"x_val: {}\" .format(x_val.shape)) # prints x_val: (10000, 28, 28)\n",
    "print( \"y_train: {}\" .format(y_train.shape)) #prints y_train: (50000,)\n",
    "print( \"y_val: {}\" .format(y_val.shape)) #prints y_val: (10000,)"
   ]
  },
  {
   "cell_type": "code",
   "execution_count": 60,
   "metadata": {},
   "outputs": [
    {
     "name": "stdout",
     "output_type": "stream",
     "text": [
      "x_train: (50000, 784)\n",
      "x_val: (10000, 784)\n",
      "test_images: (10000, 784)\n"
     ]
    }
   ],
   "source": [
    "# Reshape data from 28 * 28 array to a single array\n",
    "new_dimension = np.prod(train_images.shape[ 1 :])\n",
    "x_train = x_train.reshape(x_train.shape[ 0 ], new_dimension)\n",
    "x_val = x_val.reshape(x_val.shape[ 0 ], new_dimension)\n",
    "test_images = test_images.reshape(test_images.shape[ 0 ], new_dimension)\n",
    "print( \"x_train: {}\" .format(x_train.shape)) #prints x_train: (50000, 784)\n",
    "print( \"x_val: {}\" .format(x_val.shape)) #prints x_val: (10000, 784)\n",
    "print( \"test_images: {}\" .format(test_images.shape)) #prints test_images: (10000, 784)"
   ]
  },
  {
   "cell_type": "code",
   "execution_count": 61,
   "metadata": {},
   "outputs": [],
   "source": [
    "#Encode labels to categorical variables\n",
    "from tensorflow.keras.utils import to_categorical\n",
    "no_labels = 10\n",
    "y_train = to_categorical(y_train, no_labels)\n",
    "y_val = to_categorical(y_val, no_labels)\n",
    "y_test = to_categorical(test_labels, no_labels)"
   ]
  },
  {
   "cell_type": "code",
   "execution_count": 62,
   "metadata": {},
   "outputs": [],
   "source": [
    "#Activation functions and Neural Networks Hyperparameters\n",
    "# inputs\n",
    "#placeholders are not enabled in tf 2\n",
    "import tensorflow.compat.v1 as tf\n",
    "tf.disable_v2_behavior()\n",
    "tf.test.gpu_device_name()\n",
    "new_dimension = np.prod(train_images.shape[ 1 :])\n",
    "X = tf.placeholder(tf.float32, [ None , new_dimension])\n",
    "Y = tf.placeholder(tf.float32, [ None , no_labels])\n",
    "# create model architecture\n",
    "def multilayer_perceptron(x, no_classes, first_layer_neurons= 256 , second_layer_neurons= 128 ) :\n",
    "    # first layer\n",
    "    first_weight = tf.Variable(tf.random_uniform([new_dimension, first_layer_neurons]))\n",
    "    first_bias = tf.Variable(tf.zeros([first_layer_neurons]))\n",
    "    first_layer_output = tf.nn.relu(tf.add(tf.matmul(x, first_weight), first_bias))\n",
    "    # second layer\n",
    "    second_weight = tf.Variable(tf.random_uniform([first_layer_neurons,second_layer_neurons]))\n",
    "    second_bias = tf.Variable(tf.zeros([second_layer_neurons]))\n",
    "    second_layer_output = tf.nn.relu(tf.add(tf.matmul(first_layer_output, second_weight),second_bias))\n",
    "    # output layer\n",
    "    final_weight = tf.Variable(tf.random_uniform([second_layer_neurons, no_classes]))\n",
    "    final_bias = tf.Variable(tf.zeros([no_classes]))\n",
    "    logits = tf.add(tf.matmul(second_layer_output, final_weight), final_bias)\n",
    "    return logits\n",
    "logits = multilayer_perceptron(X, no_labels)\n",
    "learning_rate = 0.01\n",
    "#we define the loss and"
   ]
  },
  {
   "cell_type": "code",
   "execution_count": 63,
   "metadata": {},
   "outputs": [
    {
     "name": "stdout",
     "output_type": "stream",
     "text": [
      "Epoch========0\n",
      "Epoch========1\n",
      "Epoch========2\n",
      "Epoch========3\n",
      "Epoch========4\n",
      "Epoch========5\n",
      "Epoch========6\n",
      "Epoch========7\n",
      "Epoch========8\n",
      "Epoch========9\n",
      "Epoch========10\n",
      "Epoch========11\n",
      "Epoch========12\n",
      "Epoch========13\n",
      "Epoch========14\n",
      "Epoch========15\n",
      "Epoch========16\n",
      "Epoch========17\n",
      "Epoch========18\n",
      "Epoch========19\n",
      "Accuracy: 0.9003000259399414\n"
     ]
    }
   ],
   "source": [
    "#we define the loss and optimiser for the network\n",
    "loss_op = tf.reduce_mean(tf.nn.softmax_cross_entropy_with_logits(logits=logits, labels=Y))\n",
    "optimiser = tf.train.AdamOptimizer(learning_rate=learning_rate)\n",
    "train_op = optimiser.minimize(loss_op)\n",
    "#initialise the variables\n",
    "    \n",
    "        \n",
    "init = tf.global_variables_initializer()\n",
    "\n",
    "epochs = 20\n",
    "batch_size = 1000\n",
    "iteration = len(x_train) // batch_size\n",
    "#train model\n",
    "with tf.Session() as session:\n",
    "  session.run(init)\n",
    "  for epoch in range(epochs):\n",
    "    average_cost = 0\n",
    "    start, end = 0, batch_size\n",
    "    for i in range(iteration):\n",
    "      batch_x, batch_y = x_train[start: end], y_train[start: end]\n",
    "      _, loss = session.run([train_op, loss_op], feed_dict={X: batch_x, Y: batch_y})\n",
    "      start += batch_size\n",
    "      end += batch_size \n",
    "      #average loss\n",
    "      average_cost += loss/iteration\n",
    "    print(\"Epoch========{}\".format(epoch))\n",
    "    #evaluate model\n",
    "  prediction = tf.nn.softmax(logits)\n",
    "  ground_truth = tf.equal(tf.argmax(prediction, 1), tf.argmax(Y, 1))\n",
    "  accuracy = tf.reduce_mean(tf.cast(ground_truth, \"float\"))\n",
    "  print(\"Accuracy: {}\".format(accuracy.eval({X: test_images, Y: y_test})))"
   ]
  },
  {
   "cell_type": "code",
   "execution_count": 64,
   "metadata": {},
   "outputs": [],
   "source": [
    "#LESSON 2: Regularization and Optimization\n",
    "#Building a Sequential Feed Forward Network in Keras\n",
    "from tensorflow.keras.models import Sequential\n",
    "model = Sequential()\n",
    "model.add(Dense( 256 , activation= 'relu' , input_shape=(new_dimension,)))\n",
    "model.add(Dense( 128 , activation= 'relu' ))\n",
    "model.add(Dense(no_labels, activation= 'softmax' ))"
   ]
  },
  {
   "cell_type": "code",
   "execution_count": 65,
   "metadata": {},
   "outputs": [
    {
     "name": "stdout",
     "output_type": "stream",
     "text": [
      "Train on 50000 samples, validate on 10000 samples\n",
      "Epoch 1/20\n",
      "50000/50000 [==============================] - 9s 174us/sample - loss: 0.7051 - acc: 0.8093 - val_loss: 0.2577 - val_acc: 0.9297\n",
      "Epoch 2/20\n",
      "50000/50000 [==============================] - 8s 162us/sample - loss: 0.2364 - acc: 0.9322 - val_loss: 0.1857 - val_acc: 0.9511\n",
      "Epoch 3/20\n",
      "50000/50000 [==============================] - 10s 191us/sample - loss: 0.1714 - acc: 0.9510 - val_loss: 0.1471 - val_acc: 0.9578\n",
      "Epoch 4/20\n",
      "50000/50000 [==============================] - 9s 178us/sample - loss: 0.1347 - acc: 0.9623 - val_loss: 0.1266 - val_acc: 0.9635\n",
      "Epoch 5/20\n",
      "50000/50000 [==============================] - 10s 206us/sample - loss: 0.1095 - acc: 0.9688 - val_loss: 0.1136 - val_acc: 0.9677\n",
      "Epoch 6/20\n",
      "50000/50000 [==============================] - 10s 192us/sample - loss: 0.0916 - acc: 0.9743 - val_loss: 0.1031 - val_acc: 0.9709\n",
      "Epoch 7/20\n",
      "50000/50000 [==============================] - 10s 203us/sample - loss: 0.0765 - acc: 0.9778 - val_loss: 0.1000 - val_acc: 0.9705\n",
      "Epoch 8/20\n",
      "50000/50000 [==============================] - 11s 211us/sample - loss: 0.0650 - acc: 0.9818 - val_loss: 0.0907 - val_acc: 0.9737\n",
      "Epoch 9/20\n",
      "50000/50000 [==============================] - 9s 175us/sample - loss: 0.0545 - acc: 0.9847 - val_loss: 0.0857 - val_acc: 0.9749\n",
      "Epoch 10/20\n",
      "50000/50000 [==============================] - 9s 186us/sample - loss: 0.0464 - acc: 0.9869 - val_loss: 0.0865 - val_acc: 0.9746\n",
      "Epoch 11/20\n",
      "50000/50000 [==============================] - 9s 183us/sample - loss: 0.0396 - acc: 0.9896 - val_loss: 0.0802 - val_acc: 0.9759\n",
      "Epoch 12/20\n",
      "50000/50000 [==============================] - 11s 217us/sample - loss: 0.0330 - acc: 0.9920 - val_loss: 0.0790 - val_acc: 0.9755\n",
      "Epoch 13/20\n",
      "50000/50000 [==============================] - 10s 191us/sample - loss: 0.0292 - acc: 0.9929 - val_loss: 0.0792 - val_acc: 0.9762\n",
      "Epoch 14/20\n",
      "50000/50000 [==============================] - 9s 175us/sample - loss: 0.0243 - acc: 0.9941 - val_loss: 0.0793 - val_acc: 0.9774\n",
      "Epoch 15/20\n",
      "50000/50000 [==============================] - 9s 181us/sample - loss: 0.0220 - acc: 0.9948 - val_loss: 0.0789 - val_acc: 0.9779\n",
      "Epoch 16/20\n",
      "50000/50000 [==============================] - 10s 208us/sample - loss: 0.0182 - acc: 0.9963 - val_loss: 0.0800 - val_acc: 0.9768c: 0.996\n",
      "Epoch 17/20\n",
      "50000/50000 [==============================] - 9s 178us/sample - loss: 0.0158 - acc: 0.9969 - val_loss: 0.0791 - val_acc: 0.9777\n",
      "Epoch 18/20\n",
      "50000/50000 [==============================] - 9s 177us/sample - loss: 0.0131 - acc: 0.9977 - val_loss: 0.0781 - val_acc: 0.9781\n",
      "Epoch 19/20\n",
      "50000/50000 [==============================] - 9s 189us/sample - loss: 0.0108 - acc: 0.9985 - val_loss: 0.0809 - val_acc: 0.9783\n",
      "Epoch 20/20\n",
      "50000/50000 [==============================] - 10s 191us/sample - loss: 0.0092 - acc: 0.9989 - val_loss: 0.0809 - val_acc: 0.9784\n",
      "Test loss: 0.07606949628166622\n",
      "Test accuracy: 0.9778000116348267\n"
     ]
    }
   ],
   "source": [
    "model.compile(optimizer= 'adam' , loss=tf.keras.losses.categorical_crossentropy, metrics=[ 'accuracy' ])\n",
    "history = model.fit(x_train, y_train, validation_data=(x_val, y_val), epochs= 20 ,batch_size= 1000 )\n",
    "test_loss, test_accuracy = model.evaluate(test_images, y_test)\n",
    "print( 'Test loss: {}' .format(test_loss))\n",
    "print( 'Test accuracy: {}' .format(test_accuracy))"
   ]
  },
  {
   "cell_type": "code",
   "execution_count": 66,
   "metadata": {},
   "outputs": [
    {
     "data": {
      "text/plain": [
       "Text(0.5, 1.0, 'Loss Curves - before regularisation')"
      ]
     },
     "execution_count": 66,
     "metadata": {},
     "output_type": "execute_result"
    },
    {
     "data": {
      "image/png": "[encoded data removed]",
      "text/plain": [
       "<Figure size 432x288 with 1 Axes>"
      ]
     },
     "metadata": {
      "needs_background": "light"
     },
     "output_type": "display_data"
    }
   ],
   "source": [
    "#Check for Overfitting\n",
    "plt.figure()\n",
    "plt.plot(history.history[ 'loss' ], 'blue' )\n",
    "plt.plot(history.history[ 'val_loss' ], 'red' )\n",
    "plt.legend([ 'Training loss' , 'Validation Loss' ])\n",
    "plt.xlabel( 'Epochs' )\n",
    "plt.ylabel( 'Loss' )\n",
    "plt.title( 'Loss Curves - before regularisation' )"
   ]
  },
  {
   "cell_type": "code",
   "execution_count": 67,
   "metadata": {},
   "outputs": [],
   "source": [
    "#Although the validation and training loss seem great, we can see that the validation #loss\n",
    "#increases. This identifies overfitting in our network. How do we proceed? #Introduce\n",
    "#regularisation to the model.\n",
    "from tensorflow.keras.layers import Dropout\n",
    "reg_model = Sequential()\n",
    "reg_model.add(Dense( 256 , activation= 'relu' , input_shape=(new_dimension,)))\n",
    "reg_model.add(Dropout( 0.4 ))\n",
    "reg_model.add(Dense( 128 , activation= 'relu' ))\n",
    "reg_model.add(Dropout( 0.4 ))\n",
    "reg_model.add(Dense(no_labels, activation= 'softmax' ))"
   ]
  },
  {
   "cell_type": "code",
   "execution_count": 68,
   "metadata": {},
   "outputs": [
    {
     "name": "stdout",
     "output_type": "stream",
     "text": [
      "Train on 50000 samples, validate on 10000 samples\n",
      "Epoch 1/20\n",
      "50000/50000 [==============================] - 11s 226us/sample - loss: 0.9813 - acc: 0.6930 - val_loss: 0.2996 - val_acc: 0.9157\n",
      "Epoch 2/20\n",
      "50000/50000 [==============================] - 10s 209us/sample - loss: 0.3794 - acc: 0.8893 - val_loss: 0.2025 - val_acc: 0.9408\n",
      "Epoch 3/20\n",
      "50000/50000 [==============================] - 10s 196us/sample - loss: 0.2843 - acc: 0.9169 - val_loss: 0.1661 - val_acc: 0.9516\n",
      "Epoch 4/20\n",
      "50000/50000 [==============================] - 9s 185us/sample - loss: 0.2337 - acc: 0.9313 - val_loss: 0.1402 - val_acc: 0.9589\n",
      "Epoch 5/20\n",
      "50000/50000 [==============================] - 9s 189us/sample - loss: 0.2019 - acc: 0.9418 - val_loss: 0.1240 - val_acc: 0.9637\n",
      "Epoch 6/20\n",
      "50000/50000 [==============================] - 11s 210us/sample - loss: 0.1806 - acc: 0.9472 - val_loss: 0.1130 - val_acc: 0.9671\n",
      "Epoch 7/20\n",
      "50000/50000 [==============================] - 11s 216us/sample - loss: 0.1618 - acc: 0.9525 - val_loss: 0.1068 - val_acc: 0.9690\n",
      "Epoch 8/20\n",
      "50000/50000 [==============================] - 10s 195us/sample - loss: 0.1422 - acc: 0.9577 - val_loss: 0.0945 - val_acc: 0.9722\n",
      "Epoch 9/20\n",
      "50000/50000 [==============================] - 10s 191us/sample - loss: 0.1320 - acc: 0.9603 - val_loss: 0.0953 - val_acc: 0.9726\n",
      "Epoch 10/20\n",
      "50000/50000 [==============================] - 11s 223us/sample - loss: 0.1231 - acc: 0.9633 - val_loss: 0.0886 - val_acc: 0.9737\n",
      "Epoch 11/20\n",
      "50000/50000 [==============================] - 10s 199us/sample - loss: 0.1118 - acc: 0.9667 - val_loss: 0.0847 - val_acc: 0.9746\n",
      "Epoch 12/20\n",
      "50000/50000 [==============================] - 9s 187us/sample - loss: 0.1062 - acc: 0.9680 - val_loss: 0.0820 - val_acc: 0.9757060 - a\n",
      "Epoch 13/20\n",
      "50000/50000 [==============================] - 9s 189us/sample - loss: 0.1000 - acc: 0.9698 - val_loss: 0.0792 - val_acc: 0.9766\n",
      "Epoch 14/20\n",
      "50000/50000 [==============================] - 12s 236us/sample - loss: 0.0928 - acc: 0.9720 - val_loss: 0.0772 - val_acc: 0.9786\n",
      "Epoch 15/20\n",
      "50000/50000 [==============================] - 10s 190us/sample - loss: 0.0893 - acc: 0.9727 - val_loss: 0.0789 - val_acc: 0.9774\n",
      "Epoch 16/20\n",
      "50000/50000 [==============================] - 10s 204us/sample - loss: 0.0829 - acc: 0.9745 - val_loss: 0.0799 - val_acc: 0.9768\n",
      "Epoch 17/20\n",
      "50000/50000 [==============================] - 11s 210us/sample - loss: 0.0784 - acc: 0.9762 - val_loss: 0.0752 - val_acc: 0.9776\n",
      "Epoch 18/20\n",
      "50000/50000 [==============================] - 13s 251us/sample - loss: 0.0754 - acc: 0.9769 - val_loss: 0.0757 - val_acc: 0.9783\n",
      "Epoch 19/20\n",
      "50000/50000 [==============================] - 12s 248us/sample - loss: 0.0713 - acc: 0.9779 - val_loss: 0.0727 - val_acc: 0.9792\n",
      "Epoch 20/20\n",
      "50000/50000 [==============================] - 12s 238us/sample - loss: 0.0690 - acc: 0.9785 - val_loss: 0.0723 - val_acc: 0.9787\n",
      "Test loss: 0.06539995702326996\n",
      "Test accuracy: 0.9800999760627747\n"
     ]
    }
   ],
   "source": [
    "reg_model.compile(optimizer= 'adam' , loss=tf.keras.losses.categorical_crossentropy, metrics=[ 'accuracy' ])\n",
    "reg_history = reg_model.fit(x_train, y_train, validation_data=(x_val, y_val), epochs= 20 , batch_size= 1000 )\n",
    "test_loss, test_accuracy = reg_model.evaluate(test_images, y_test)\n",
    "print( 'Test loss: {}' .format(test_loss))\n",
    "print( 'Test accuracy: {}' .format(test_accuracy))"
   ]
  },
  {
   "cell_type": "code",
   "execution_count": 69,
   "metadata": {},
   "outputs": [
    {
     "name": "stdout",
     "output_type": "stream",
     "text": [
      "Test loss: 0.06539995702326996\n",
      "Test accuracy: 0.9800999760627747\n"
     ]
    }
   ],
   "source": [
    "test_loss, test_accuracy = reg_model.evaluate(test_images, y_test)\n",
    "print( 'Test loss: {}' .format(test_loss))\n",
    "print( 'Test accuracy: {}' .format(test_accuracy))"
   ]
  },
  {
   "cell_type": "code",
   "execution_count": 70,
   "metadata": {},
   "outputs": [
    {
     "data": {
      "text/plain": [
       "Text(0.5, 1.0, 'Loss Curves - after regularisation')"
      ]
     },
     "execution_count": 70,
     "metadata": {},
     "output_type": "execute_result"
    },
    {
     "data": {
      "image/png": "[encoded data removed]",
      "text/plain": [
       "<Figure size 432x288 with 1 Axes>"
      ]
     },
     "metadata": {
      "needs_background": "light"
     },
     "output_type": "display_data"
    }
   ],
   "source": [
    "plt.figure()\n",
    "plt.plot(reg_history.history[ 'loss' ], 'blue' )\n",
    "plt.plot(reg_history.history[ 'val_loss' ], 'red' )\n",
    "plt.legend([ 'Training loss' , 'Validation Loss' ])\n",
    "plt.xlabel( 'Epochs' )\n",
    "plt.ylabel( 'Loss' )\n",
    "plt.title( 'Loss Curves - after regularisation' )"
   ]
  },
  {
   "cell_type": "code",
   "execution_count": null,
   "metadata": {},
   "outputs": [],
   "source": []
  }
 ],
 "metadata": {
  "kernelspec": {
   "display_name": "Python 3",
   "language": "python",
   "name": "python3"
  },
  "language_info": {
   "codemirror_mode": {
    "name": "ipython",
    "version": 3
   },
   "file_extension": ".py",
   "mimetype": "text/x-python",
   "name": "python",
   "nbconvert_exporter": "python",
   "pygments_lexer": "ipython3",
   "version": "3.7.6"
  }
 },
 "nbformat": 4,
 "nbformat_minor": 4
}
